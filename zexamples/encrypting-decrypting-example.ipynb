{
    "cells": [
        {
            "cell_type": "code",
            "execution_count": 1,
            "id": "bcddce7b",
            "metadata": {
                "scrolled": true
            },
            "outputs": [
                {
                    "name": "stdout",
                    "output_type": "stream",
                    "text": [
                        "Defaulting to user installation because normal site-packages is not writeable\n",
                        "Requirement already satisfied: presidio_analyzer in /home/fares/.local/lib/python3.10/site-packages (2.2.354)\n",
                        "Requirement already satisfied: presidio_anonymizer in /home/fares/.local/lib/python3.10/site-packages (2.2.354)\n",
                        "Requirement already satisfied: spacy<4.0.0,>=3.4.4 in /home/fares/.local/lib/python3.10/site-packages (from presidio_analyzer) (3.7.4)\n",
                        "Requirement already satisfied: regex in /home/fares/.local/lib/python3.10/site-packages (from presidio_analyzer) (2023.10.3)\n",
                        "Requirement already satisfied: tldextract in /home/fares/.local/lib/python3.10/site-packages (from presidio_analyzer) (5.1.2)\n",
                        "Requirement already satisfied: pyyaml in /home/fares/.local/lib/python3.10/site-packages (from presidio_analyzer) (6.0.1)\n",
                        "Requirement already satisfied: phonenumbers<9.0.0,>=8.12 in /home/fares/.local/lib/python3.10/site-packages (from presidio_analyzer) (8.13.33)\n",
                        "Requirement already satisfied: pycryptodome>=3.10.1 in /home/fares/.local/lib/python3.10/site-packages (from presidio_anonymizer) (3.20.0)\n",
                        "Requirement already satisfied: spacy-legacy<3.1.0,>=3.0.11 in /home/fares/.local/lib/python3.10/site-packages (from spacy<4.0.0,>=3.4.4->presidio_analyzer) (3.0.12)\n",
                        "Requirement already satisfied: spacy-loggers<2.0.0,>=1.0.0 in /home/fares/.local/lib/python3.10/site-packages (from spacy<4.0.0,>=3.4.4->presidio_analyzer) (1.0.5)\n",
                        "Requirement already satisfied: murmurhash<1.1.0,>=0.28.0 in /home/fares/.local/lib/python3.10/site-packages (from spacy<4.0.0,>=3.4.4->presidio_analyzer) (1.0.10)\n",
                        "Requirement already satisfied: cymem<2.1.0,>=2.0.2 in /home/fares/.local/lib/python3.10/site-packages (from spacy<4.0.0,>=3.4.4->presidio_analyzer) (2.0.8)\n",
                        "Requirement already satisfied: preshed<3.1.0,>=3.0.2 in /home/fares/.local/lib/python3.10/site-packages (from spacy<4.0.0,>=3.4.4->presidio_analyzer) (3.0.9)\n",
                        "Requirement already satisfied: thinc<8.3.0,>=8.2.2 in /home/fares/.local/lib/python3.10/site-packages (from spacy<4.0.0,>=3.4.4->presidio_analyzer) (8.2.3)\n",
                        "Requirement already satisfied: wasabi<1.2.0,>=0.9.1 in /home/fares/.local/lib/python3.10/site-packages (from spacy<4.0.0,>=3.4.4->presidio_analyzer) (1.1.2)\n",
                        "Requirement already satisfied: srsly<3.0.0,>=2.4.3 in /home/fares/.local/lib/python3.10/site-packages (from spacy<4.0.0,>=3.4.4->presidio_analyzer) (2.4.8)\n",
                        "Requirement already satisfied: catalogue<2.1.0,>=2.0.6 in /home/fares/.local/lib/python3.10/site-packages (from spacy<4.0.0,>=3.4.4->presidio_analyzer) (2.0.10)\n",
                        "Requirement already satisfied: weasel<0.4.0,>=0.1.0 in /home/fares/.local/lib/python3.10/site-packages (from spacy<4.0.0,>=3.4.4->presidio_analyzer) (0.3.4)\n",
                        "Requirement already satisfied: typer<0.10.0,>=0.3.0 in /home/fares/.local/lib/python3.10/site-packages (from spacy<4.0.0,>=3.4.4->presidio_analyzer) (0.9.4)\n",
                        "Requirement already satisfied: smart-open<7.0.0,>=5.2.1 in /home/fares/.local/lib/python3.10/site-packages (from spacy<4.0.0,>=3.4.4->presidio_analyzer) (6.4.0)\n",
                        "Requirement already satisfied: tqdm<5.0.0,>=4.38.0 in /home/fares/.local/lib/python3.10/site-packages (from spacy<4.0.0,>=3.4.4->presidio_analyzer) (4.66.1)\n",
                        "Requirement already satisfied: requests<3.0.0,>=2.13.0 in /home/fares/.local/lib/python3.10/site-packages (from spacy<4.0.0,>=3.4.4->presidio_analyzer) (2.31.0)\n",
                        "Requirement already satisfied: pydantic!=1.8,!=1.8.1,<3.0.0,>=1.7.4 in /home/fares/.local/lib/python3.10/site-packages (from spacy<4.0.0,>=3.4.4->presidio_analyzer) (2.5.1)\n",
                        "Requirement already satisfied: jinja2 in /home/fares/.local/lib/python3.10/site-packages (from spacy<4.0.0,>=3.4.4->presidio_analyzer) (3.1.3)\n",
                        "Requirement already satisfied: setuptools in /home/fares/.local/lib/python3.10/site-packages (from spacy<4.0.0,>=3.4.4->presidio_analyzer) (69.0.3)\n",
                        "Requirement already satisfied: packaging>=20.0 in /home/fares/.local/lib/python3.10/site-packages (from spacy<4.0.0,>=3.4.4->presidio_analyzer) (23.2)\n",
                        "Requirement already satisfied: langcodes<4.0.0,>=3.2.0 in /home/fares/.local/lib/python3.10/site-packages (from spacy<4.0.0,>=3.4.4->presidio_analyzer) (3.3.0)\n",
                        "Requirement already satisfied: numpy>=1.19.0 in /home/fares/.local/lib/python3.10/site-packages (from spacy<4.0.0,>=3.4.4->presidio_analyzer) (1.26.3)\n",
                        "Requirement already satisfied: idna in /usr/lib/python3/dist-packages (from tldextract->presidio_analyzer) (3.3)\n",
                        "Requirement already satisfied: requests-file>=1.4 in /home/fares/.local/lib/python3.10/site-packages (from tldextract->presidio_analyzer) (2.0.0)\n",
                        "Requirement already satisfied: filelock>=3.0.8 in /usr/lib/python3/dist-packages (from tldextract->presidio_analyzer) (3.6.0)\n",
                        "Requirement already satisfied: annotated-types>=0.4.0 in /home/fares/.local/lib/python3.10/site-packages (from pydantic!=1.8,!=1.8.1,<3.0.0,>=1.7.4->spacy<4.0.0,>=3.4.4->presidio_analyzer) (0.6.0)\n",
                        "Requirement already satisfied: pydantic-core==2.14.3 in /home/fares/.local/lib/python3.10/site-packages (from pydantic!=1.8,!=1.8.1,<3.0.0,>=1.7.4->spacy<4.0.0,>=3.4.4->presidio_analyzer) (2.14.3)\n",
                        "Requirement already satisfied: typing-extensions>=4.6.1 in /home/fares/.local/lib/python3.10/site-packages (from pydantic!=1.8,!=1.8.1,<3.0.0,>=1.7.4->spacy<4.0.0,>=3.4.4->presidio_analyzer) (4.8.0)\n",
                        "Requirement already satisfied: charset-normalizer<4,>=2 in /home/fares/.local/lib/python3.10/site-packages (from requests<3.0.0,>=2.13.0->spacy<4.0.0,>=3.4.4->presidio_analyzer) (3.3.2)\n",
                        "Requirement already satisfied: urllib3<3,>=1.21.1 in /usr/lib/python3/dist-packages (from requests<3.0.0,>=2.13.0->spacy<4.0.0,>=3.4.4->presidio_analyzer) (1.26.5)\n",
                        "Requirement already satisfied: certifi>=2017.4.17 in /usr/lib/python3/dist-packages (from requests<3.0.0,>=2.13.0->spacy<4.0.0,>=3.4.4->presidio_analyzer) (2020.6.20)\n",
                        "Requirement already satisfied: blis<0.8.0,>=0.7.8 in /home/fares/.local/lib/python3.10/site-packages (from thinc<8.3.0,>=8.2.2->spacy<4.0.0,>=3.4.4->presidio_analyzer) (0.7.11)\n",
                        "Requirement already satisfied: confection<1.0.0,>=0.0.1 in /home/fares/.local/lib/python3.10/site-packages (from thinc<8.3.0,>=8.2.2->spacy<4.0.0,>=3.4.4->presidio_analyzer) (0.1.4)\n",
                        "Requirement already satisfied: click<9.0.0,>=7.1.1 in /home/fares/.local/lib/python3.10/site-packages (from typer<0.10.0,>=0.3.0->spacy<4.0.0,>=3.4.4->presidio_analyzer) (8.1.7)\n",
                        "Requirement already satisfied: cloudpathlib<0.17.0,>=0.7.0 in /home/fares/.local/lib/python3.10/site-packages (from weasel<0.4.0,>=0.1.0->spacy<4.0.0,>=3.4.4->presidio_analyzer) (0.16.0)\n",
                        "Requirement already satisfied: MarkupSafe>=2.0 in /usr/lib/python3/dist-packages (from jinja2->spacy<4.0.0,>=3.4.4->presidio_analyzer) (2.0.1)\n",
                        "/bin/bash: line 1: python: command not found\n"
                    ]
                }
            ],
            "source": [
                "# download presidio\n",
                "!pip install presidio_analyzer presidio_anonymizer\n",
                "!python -m spacy download en_core_web_lg"
            ]
        },
        {
            "cell_type": "markdown",
            "id": "3345f1c4",
            "metadata": {},
            "source": [
                "Path to notebook: [https://www.github.com/microsoft/presidio/blob/main/docs/samples/python/encrypt_decrypt.ipynb](https://www.github.com/microsoft/presidio/blob/main/docs/samples/python/encrypt_decrypt.ipynb)"
            ]
        },
        {
            "cell_type": "markdown",
            "id": "gothic-trademark",
            "metadata": {},
            "source": [
                "# Encrypting and Decrypting identified entities\n",
                "\n",
                "This sample shows how to use Presidio Anonymizer built-in functionality, to encrypt and decrypt identified entities.\n",
                "The encryption is using AES cypher in CBC mode and requires a cryptographic key as an input for both the encryption and the decryption.\n"
            ]
        },
        {
            "cell_type": "markdown",
            "id": "roman-allergy",
            "metadata": {},
            "source": [
                "### Set up imports"
            ]
        },
        {
            "cell_type": "code",
            "execution_count": 2,
            "id": "extensive-greensboro",
            "metadata": {},
            "outputs": [],
            "source": [
                "from presidio_anonymizer import AnonymizerEngine, DeanonymizeEngine\n",
                "from presidio_anonymizer.entities import RecognizerResult, OperatorResult, OperatorConfig\n",
                "from presidio_anonymizer.operators import Decrypt"
            ]
        },
        {
            "cell_type": "markdown",
            "id": "091be4b6",
            "metadata": {},
            "source": [
                "### Define a cryptographic key (for both encryption and decryption)"
            ]
        },
        {
            "cell_type": "code",
            "execution_count": 3,
            "id": "50bc451e",
            "metadata": {
                "collapsed": false,
                "jupyter": {
                    "outputs_hidden": false
                },
                "pycharm": {
                    "name": "#%%\n"
                }
            },
            "outputs": [],
            "source": [
                "crypto_key = \"WmZq4t7w!z%C&F)J\""
            ]
        },
        {
            "cell_type": "markdown",
            "id": "metropolitan-atlantic",
            "metadata": {},
            "source": [
                "### Presidio Anonymizer: Encrypt"
            ]
        },
        {
            "cell_type": "code",
            "execution_count": 4,
            "id": "medium-ridge",
            "metadata": {},
            "outputs": [
                {
                    "data": {
                        "text/plain": [
                            "text: My name is Vn58e0KczPnmRxDKHGwXKefgGwSwXYTmEu3DHlkP6VI=\n",
                            "items:\n",
                            "[\n",
                            "    {'start': 11, 'end': 55, 'entity_type': 'PERSON', 'text': 'Vn58e0KczPnmRxDKHGwXKefgGwSwXYTmEu3DHlkP6VI=', 'operator': 'encrypt'}\n",
                            "]"
                        ]
                    },
                    "execution_count": 4,
                    "metadata": {},
                    "output_type": "execute_result"
                }
            ],
            "source": [
                "engine = AnonymizerEngine()\n",
                "\n",
                "# Invoke the anonymize function with the text,\n",
                "# analyzer results (potentially coming from presidio-analyzer)\n",
                "# and an 'encrypt' operator to get an encrypted anonymization output:\n",
                "anonymize_result = engine.anonymize(\n",
                "    text=\"My name is James Bond\",\n",
                "    analyzer_results=[\n",
                "        RecognizerResult(entity_type=\"PERSON\", start=11, end=21, score=0.8),\n",
                "    ],\n",
                "    operators={\"PERSON\": OperatorConfig(\"encrypt\", {\"key\": crypto_key})},\n",
                ")\n",
                "\n",
                "anonymize_result"
            ]
        },
        {
            "cell_type": "code",
            "execution_count": 5,
            "id": "2f8be6b5",
            "metadata": {
                "collapsed": false,
                "jupyter": {
                    "outputs_hidden": false
                },
                "pycharm": {
                    "name": "#%%\n"
                }
            },
            "outputs": [],
            "source": [
                "# Fetch the anonymized text from the result.\n",
                "anonymized_text = anonymize_result.text\n",
                "\n",
                "# Fetch the anonynized entities from the result.\n",
                "anonymized_entities = anonymize_result.items"
            ]
        },
        {
            "cell_type": "markdown",
            "id": "obvious-fifty",
            "metadata": {},
            "source": [
                "### Presidio Anonymizer: Decrypt"
            ]
        },
        {
            "cell_type": "code",
            "execution_count": 6,
            "id": "outstanding-celebration",
            "metadata": {
                "pycharm": {
                    "name": "#%%\n"
                }
            },
            "outputs": [
                {
                    "data": {
                        "text/plain": [
                            "text: My name is James Bond\n",
                            "items:\n",
                            "[\n",
                            "    {'start': 11, 'end': 21, 'entity_type': 'PERSON', 'text': 'James Bond', 'operator': 'decrypt'}\n",
                            "]"
                        ]
                    },
                    "execution_count": 6,
                    "metadata": {},
                    "output_type": "execute_result"
                }
            ],
            "source": [
                "# Initialize the engine:\n",
                "engine = DeanonymizeEngine()\n",
                "\n",
                "# Invoke the deanonymize function with the text, anonymizer results\n",
                "# and a 'decrypt' operator to get the original text as output.\n",
                "deanonymized_result = engine.deanonymize(\n",
                "    text=anonymized_text,\n",
                "    entities=anonymized_entities,\n",
                "    operators={\"DEFAULT\": OperatorConfig(\"decrypt\", {\"key\": crypto_key})},\n",
                ")\n",
                "\n",
                "deanonymized_result"
            ]
        },
        {
            "cell_type": "code",
            "execution_count": 7,
            "id": "9ff6810b",
            "metadata": {
                "collapsed": false,
                "jupyter": {
                    "outputs_hidden": false
                },
                "pycharm": {
                    "name": "#%%\n"
                }
            },
            "outputs": [
                {
                    "data": {
                        "text/plain": [
                            "'James Bond'"
                        ]
                    },
                    "execution_count": 7,
                    "metadata": {},
                    "output_type": "execute_result"
                }
            ],
            "source": [
                "# Alternatively, call the Decrypt operator directly:\n",
                "\n",
                "# Fetch the encrypted entitiy value from the previous stage\n",
                "encrypted_entity_value = anonymize_result.items[0].text\n",
                "\n",
                "# Restore the original entity value\n",
                "Decrypt().operate(text=encrypted_entity_value, params={\"key\": crypto_key})"
            ]
        }
    ],
    "metadata": {
        "kernelspec": {
            "display_name": "Python 3 (ipykernel)",
            "language": "python",
            "name": "python3"
        },
        "language_info": {
            "codemirror_mode": {
                "name": "ipython",
                "version": 3
            },
            "file_extension": ".py",
            "mimetype": "text/x-python",
            "name": "python",
            "nbconvert_exporter": "python",
            "pygments_lexer": "ipython3",
            "version": "3.10.12"
        }
    },
    "nbformat": 4,
    "nbformat_minor": 5
}

{
 "cells": [
  {
   "cell_type": "code",
   "execution_count": 1,
   "metadata": {},
   "outputs": [
    {
     "name": "stdout",
     "output_type": "stream",
     "text": [
      "text: My name is <ANONYMIZED>, <ANONYMIZED>\n",
      "detailed result:\n",
      "{'items': [{'end': 37,\n",
      "            'entity_type': 'PERSON',\n",
      "            'operator': 'replace',\n",
      "            'start': 25,\n",
      "            'text': '<ANONYMIZED>'},\n",
      "           {'end': 23,\n",
      "            'entity_type': 'PERSON',\n",
      "            'operator': 'replace',\n",
      "            'start': 11,\n",
      "            'text': '<ANONYMIZED>'}],\n",
      " 'text': 'My name is <ANONYMIZED>, <ANONYMIZED>'}\n"
     ]
    }
   ],
   "source": [
    "from pprint import pprint\n",
    "import json\n",
    "\n",
    "from presidio_anonymizer import AnonymizerEngine\n",
    "from presidio_anonymizer.entities import OperatorConfig, RecognizerResult\n",
    "\n",
    "\n",
    "# Analyzer output\n",
    "analyzer_results = [\n",
    "    RecognizerResult(entity_type=\"PERSON\", start=11, end=15, score=0.8),\n",
    "    RecognizerResult(entity_type=\"PERSON\", start=17, end=27, score=0.8),\n",
    "]\n",
    "\n",
    "text_to_anonymize = \"My name is Bond, James Bond\"\n",
    "\n",
    "anonymizer = AnonymizerEngine()\n",
    "\n",
    "# Define anonymization operators\n",
    "operators = {\n",
    "    \"DEFAULT\": OperatorConfig(\"replace\", {\"new_value\": \"<ANONYMIZED>\"}),\n",
    "    \"PHONE_NUMBER\": OperatorConfig(\n",
    "        \"mask\",\n",
    "        {\n",
    "            \"type\": \"mask\",\n",
    "            \"masking_char\": \"*\",\n",
    "            \"chars_to_mask\": 12,\n",
    "            \"from_end\": True,\n",
    "        },\n",
    "    ),\n",
    "    \"TITLE\": OperatorConfig(\"redact\", {}),\n",
    "}\n",
    "\n",
    "anonymized_results = anonymizer.anonymize(\n",
    "    text=text_to_anonymize, analyzer_results=analyzer_results, operators=operators\n",
    ")\n",
    "\n",
    "print(f\"text: {anonymized_results.text}\")\n",
    "print(\"detailed result:\")\n",
    "\n",
    "pprint(json.loads(anonymized_results.to_json()))"
   ]
  }
 ],
 "metadata": {
  "kernelspec": {
   "display_name": "Python 3",
   "language": "python",
   "name": "python3"
  },
  "language_info": {
   "codemirror_mode": {
    "name": "ipython",
    "version": 3
   },
   "file_extension": ".py",
   "mimetype": "text/x-python",
   "name": "python",
   "nbconvert_exporter": "python",
   "pygments_lexer": "ipython3",
   "version": "3.10.12"
  }
 },
 "nbformat": 4,
 "nbformat_minor": 2
}

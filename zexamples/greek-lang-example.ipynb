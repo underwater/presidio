{
 "cells": [
  {
   "cell_type": "code",
   "execution_count": 3,
   "metadata": {},
   "outputs": [
    {
     "name": "stdout",
     "output_type": "stream",
     "text": [
      "Results from Greek request:\n",
      "[type: PERSON, start: 19, end: 25, score: 0.85]\n"
     ]
    }
   ],
   "source": [
    "from presidio_analyzer import AnalyzerEngine\n",
    "from presidio_analyzer.nlp_engine import NlpEngineProvider\n",
    "\n",
    "# Import spaCy and download the Greek model\n",
    "# spacy.cli.download(\"el_core_news_md\")  # Uncomment this line to download the Greek model\n",
    "\n",
    "# Create configuration containing engine name and models\n",
    "configuration = {\n",
    "    \"nlp_engine_name\": \"spacy\",\n",
    "    \"models\": [\n",
    "        {\"lang_code\": \"es\", \"model_name\": \"es_core_news_md\"},\n",
    "        {\"lang_code\": \"en\", \"model_name\": \"en_core_web_lg\"},\n",
    "        # Add the Greek model\n",
    "        {\"lang_code\": \"el\", \"model_name\": \"el_core_news_md\"},\n",
    "    ],\n",
    "}\n",
    "\n",
    "# Create NLP engine based on configuration\n",
    "provider = NlpEngineProvider(nlp_configuration=configuration)\n",
    "nlp_engine_with_greek = provider.create_engine()\n",
    "\n",
    "# Pass the created NLP engine and supported_languages to the AnalyzerEngine\n",
    "analyzer = AnalyzerEngine(\n",
    "    nlp_engine=nlp_engine_with_greek, supported_languages=[\"en\", \"es\", \"el\"]\n",
    ")\n",
    "\n",
    "# Analyze in different languages\n",
    "# results_spanish = analyzer.analyze(text=\"Mi nombre es Morris\", language=\"es\")\n",
    "# print(\"Results from Spanish request:\")\n",
    "# print(results_spanish)\n",
    "\n",
    "# results_english = analyzer.analyze(text=\"My name is Morris\", language=\"en\")\n",
    "# print(\"Results from English request:\")\n",
    "# print(results_english)\n",
    "\n",
    "# Example analysis in Greek\n",
    "results_greek = analyzer.analyze(text=\"Το όνομά μου είναι Μόρρις\", language=\"el\")\n",
    "print(\"Results from Greek request:\")\n",
    "print(results_greek)"
   ]
  }
 ],
 "metadata": {
  "kernelspec": {
   "display_name": "Python 3",
   "language": "python",
   "name": "python3"
  },
  "language_info": {
   "codemirror_mode": {
    "name": "ipython",
    "version": 3
   },
   "file_extension": ".py",
   "mimetype": "text/x-python",
   "name": "python",
   "nbconvert_exporter": "python",
   "pygments_lexer": "ipython3",
   "version": "3.10.12"
  }
 },
 "nbformat": 4,
 "nbformat_minor": 2
}
